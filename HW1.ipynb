{
  "nbformat": 4,
  "nbformat_minor": 0,
  "metadata": {
    "colab": {
      "provenance": [],
      "mount_file_id": "1H3TsFXu-9HaMRxB9QKs1MPuE8jB8i8xx",
      "authorship_tag": "ABX9TyMrS3vBS6wP2QvsV26jELRh",
      "include_colab_link": true
    },
    "kernelspec": {
      "name": "python3",
      "display_name": "Python 3"
    },
    "language_info": {
      "name": "python"
    }
  },
  "cells": [
    {
      "cell_type": "markdown",
      "metadata": {
        "id": "view-in-github",
        "colab_type": "text"
      },
      "source": [
        "<a href=\"https://colab.research.google.com/github/CSC-122/lab7-substitution-cipher-Atonnesen/blob/main/HW1.ipynb\" target=\"_parent\"><img src=\"https://colab.research.google.com/assets/colab-badge.svg\" alt=\"Open In Colab\"/></a>"
      ]
    },
    {
      "cell_type": "code",
      "execution_count": 2,
      "metadata": {
        "id": "JoRrTNaAFd8Z"
      },
      "outputs": [],
      "source": [
        "import pandas as pd\n",
        "data = pd.read_csv('/content/drive/MyDrive/DATA/olympic_medals.csv')"
      ]
    },
    {
      "cell_type": "markdown",
      "source": [
        "(a) Find the size of the data frame. How many rows, how many columns?\n",
        "(b) Use the appropriate function to report the data types for all columns.\n",
        "(c) Find how many unique cities matches were held at. (Hint: unique( ). For instance, the following example tells\n",
        "how many unique Events held:)\n",
        "len(medals['Event'].unique())\n",
        "(d) Find how many medals the USA team won in total.\n",
        "(e) Find the total number of medals for each Nationality. (Hint: please search for groupby() function with count.\n",
        "For instance, the following example counts at how many locations each event was held. )\n",
        "medals.groupby(by='Event')['Location'].count()\n",
        "1\n"
      ],
      "metadata": {
        "id": "6AtLetNMHvMw"
      }
    },
    {
      "cell_type": "code",
      "source": [
        "# find the size of data frame\n",
        "size_of_dataframe = data.shape\n",
        "print(\"size of the data frame (rows, columns):\"), size_of_dataframe"
      ],
      "metadata": {
        "colab": {
          "base_uri": "https://localhost:8080/"
        },
        "id": "lepOcLCGHx77",
        "outputId": "8ac3ba7f-ab75-48fa-d33f-f147eb08f606"
      },
      "execution_count": 5,
      "outputs": [
        {
          "output_type": "stream",
          "name": "stdout",
          "text": [
            "size of the data frame (rows, columns):\n"
          ]
        },
        {
          "output_type": "execute_result",
          "data": {
            "text/plain": [
              "(None, (2394, 8))"
            ]
          },
          "metadata": {},
          "execution_count": 5
        }
      ]
    },
    {
      "cell_type": "code",
      "source": [
        "# data types for columns\n",
        "data_types = data.dtypes\n",
        "print(\"\\nData types for all columns:\\n\"), data_types"
      ],
      "metadata": {
        "colab": {
          "base_uri": "https://localhost:8080/"
        },
        "id": "ZGyaJWSHIX1L",
        "outputId": "7359a4f3-ec98-4e63-cd1d-5ea3bab747bd"
      },
      "execution_count": 7,
      "outputs": [
        {
          "output_type": "stream",
          "name": "stdout",
          "text": [
            "\n",
            "Data types for all columns:\n",
            "\n"
          ]
        },
        {
          "output_type": "execute_result",
          "data": {
            "text/plain": [
              "(None,\n",
              " Gender         object\n",
              " Event          object\n",
              " Location       object\n",
              " Year            int64\n",
              " Medal          object\n",
              " Name           object\n",
              " Nationality    object\n",
              " Result         object\n",
              " dtype: object)"
            ]
          },
          "metadata": {},
          "execution_count": 7
        }
      ]
    },
    {
      "cell_type": "code",
      "source": [
        "# unique cities matches held\n",
        "unique_locations = len(data['Location'].unique())\n",
        "print(\"Number of unique locations:\", unique_locations)"
      ],
      "metadata": {
        "colab": {
          "base_uri": "https://localhost:8080/"
        },
        "id": "z5uE01dUI-4v",
        "outputId": "7225c775-8c80-47d9-d62f-27e6375123d0"
      },
      "execution_count": 11,
      "outputs": [
        {
          "output_type": "stream",
          "name": "stdout",
          "text": [
            "Number of unique locations: 23\n"
          ]
        }
      ]
    },
    {
      "cell_type": "markdown",
      "source": [
        "(d) Find how many medals the USA team won in total. (e) Find the total number of medals for each Nationality. (Hint: please search for groupby() function with count. For instance, the following example counts at how many locations each event was held. ) medals.groupby(by='Event')['Location'].count() 1"
      ],
      "metadata": {
        "id": "NrPaR8cJKZWy"
      }
    },
    {
      "cell_type": "code",
      "source": [
        "# How many USA medals won\n",
        "usa_medals = data[data['Nationality'] == 'USA'].shape[0]\n",
        "print(\"Total number of medals won by the USA team:\", usa_medals)"
      ],
      "metadata": {
        "colab": {
          "base_uri": "https://localhost:8080/"
        },
        "id": "7_Z1uIsuKc7r",
        "outputId": "ca437ada-b461-4d06-b36c-c3b768aac230"
      },
      "execution_count": 19,
      "outputs": [
        {
          "output_type": "stream",
          "name": "stdout",
          "text": [
            "Total number of medals won by the USA team: 638\n"
          ]
        }
      ]
    },
    {
      "cell_type": "code",
      "source": [
        "# medals won by each nationality\n",
        "total_medals_nationality = data.groupby('Nationality').size()\n",
        "print(\"Total number of medals won for each nationality:\", total_medals_nationality)"
      ],
      "metadata": {
        "colab": {
          "base_uri": "https://localhost:8080/"
        },
        "id": "5hbj4qfaLY8S",
        "outputId": "2d19c6c1-2056-45cc-879f-fc28aec64f64"
      },
      "execution_count": 23,
      "outputs": [
        {
          "output_type": "stream",
          "name": "stdout",
          "text": [
            "Total number of medals won for each nationality: Nationality\n",
            "ALG      9\n",
            "ARG      4\n",
            "AUS     57\n",
            "AUT      4\n",
            "BAH     12\n",
            "      ... \n",
            "URS    131\n",
            "USA    638\n",
            "VEN      2\n",
            "YUG      1\n",
            "ZAM      1\n",
            "Length: 97, dtype: int64\n"
          ]
        }
      ]
    }
  ]
}